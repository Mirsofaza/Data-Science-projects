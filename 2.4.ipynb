{
 "cells": [
  {
   "cell_type": "code",
   "execution_count": 8,
   "metadata": {},
   "outputs": [
    {
     "name": "stderr",
     "output_type": "stream",
     "text": [
      "C:\\Users\\CS\\anaconda3\\lib\\site-packages\\scipy\\__init__.py:173: UserWarning: A NumPy version >=1.19.5 and <1.27.0 is required for this version of SciPy (detected version 1.19.2)\n",
      "  warnings.warn(f\"A NumPy version >={np_minversion} and <{np_maxversion}\"\n"
     ]
    }
   ],
   "source": [
    "import pandas  as pd \n",
    "import numpy as np \n",
    "import networkx as nx"
   ]
  },
  {
   "cell_type": "code",
   "execution_count": 2,
   "metadata": {},
   "outputs": [
    {
     "data": {
      "text/html": [
       "<div>\n",
       "<style scoped>\n",
       "    .dataframe tbody tr th:only-of-type {\n",
       "        vertical-align: middle;\n",
       "    }\n",
       "\n",
       "    .dataframe tbody tr th {\n",
       "        vertical-align: top;\n",
       "    }\n",
       "\n",
       "    .dataframe thead th {\n",
       "        text-align: right;\n",
       "    }\n",
       "</style>\n",
       "<table border=\"1\" class=\"dataframe\">\n",
       "  <thead>\n",
       "    <tr style=\"text-align: right;\">\n",
       "      <th></th>\n",
       "      <th>Unnamed: 0</th>\n",
       "      <th>Hyunjin Yi</th>\n",
       "      <th>Mike Zahorec</th>\n",
       "      <th>Cole McGuire</th>\n",
       "      <th>Marcelo Paesani</th>\n",
       "      <th>Brady Henderson</th>\n",
       "      <th>Jacquelyn Nogueras</th>\n",
       "      <th>Caitlyn Jessee</th>\n",
       "      <th>Zhixi Lin</th>\n",
       "      <th>Sabrina Callejo</th>\n",
       "      <th>...</th>\n",
       "      <th>Anusha Dayanand</th>\n",
       "      <th>Aditya Madhusudhan</th>\n",
       "      <th>Tejas Vedagiri</th>\n",
       "      <th>Nikhila Vudem</th>\n",
       "      <th>Keerthi Reddy Vudem</th>\n",
       "      <th>Austin Miller</th>\n",
       "      <th>AIdan Mahoney</th>\n",
       "      <th>Frecks Bertrand</th>\n",
       "      <th>Abhishek Pavshe</th>\n",
       "      <th>Unnamed: 88</th>\n",
       "    </tr>\n",
       "  </thead>\n",
       "  <tbody>\n",
       "    <tr>\n",
       "      <th>0</th>\n",
       "      <td>Hyunjin Yi</td>\n",
       "      <td>1.0</td>\n",
       "      <td>1</td>\n",
       "      <td>0</td>\n",
       "      <td>0</td>\n",
       "      <td>0</td>\n",
       "      <td>0</td>\n",
       "      <td>0.0</td>\n",
       "      <td>1.0</td>\n",
       "      <td>0.0</td>\n",
       "      <td>...</td>\n",
       "      <td>0.0</td>\n",
       "      <td>0.0</td>\n",
       "      <td>0.0</td>\n",
       "      <td>0.0</td>\n",
       "      <td>0.0</td>\n",
       "      <td>0.0</td>\n",
       "      <td>0.0</td>\n",
       "      <td>0.0</td>\n",
       "      <td>5.0</td>\n",
       "      <td>0.056180</td>\n",
       "    </tr>\n",
       "    <tr>\n",
       "      <th>1</th>\n",
       "      <td>Mike Zahorec</td>\n",
       "      <td>1.0</td>\n",
       "      <td>1</td>\n",
       "      <td>0</td>\n",
       "      <td>0</td>\n",
       "      <td>0</td>\n",
       "      <td>0</td>\n",
       "      <td>0.0</td>\n",
       "      <td>0.0</td>\n",
       "      <td>0.0</td>\n",
       "      <td>...</td>\n",
       "      <td>0.0</td>\n",
       "      <td>0.0</td>\n",
       "      <td>0.0</td>\n",
       "      <td>0.0</td>\n",
       "      <td>0.0</td>\n",
       "      <td>0.0</td>\n",
       "      <td>0.0</td>\n",
       "      <td>0.0</td>\n",
       "      <td>5.0</td>\n",
       "      <td>0.056180</td>\n",
       "    </tr>\n",
       "    <tr>\n",
       "      <th>2</th>\n",
       "      <td>Cole McGuire</td>\n",
       "      <td>0.0</td>\n",
       "      <td>0</td>\n",
       "      <td>1</td>\n",
       "      <td>0</td>\n",
       "      <td>0</td>\n",
       "      <td>0</td>\n",
       "      <td>0.0</td>\n",
       "      <td>0.0</td>\n",
       "      <td>0.0</td>\n",
       "      <td>...</td>\n",
       "      <td>0.0</td>\n",
       "      <td>0.0</td>\n",
       "      <td>0.0</td>\n",
       "      <td>0.0</td>\n",
       "      <td>0.0</td>\n",
       "      <td>1.0</td>\n",
       "      <td>0.0</td>\n",
       "      <td>0.0</td>\n",
       "      <td>6.0</td>\n",
       "      <td>0.067416</td>\n",
       "    </tr>\n",
       "    <tr>\n",
       "      <th>3</th>\n",
       "      <td>Marcelo Paesani</td>\n",
       "      <td>NaN</td>\n",
       "      <td>NaN</td>\n",
       "      <td>NaN</td>\n",
       "      <td>1</td>\n",
       "      <td>NaN</td>\n",
       "      <td>NaN</td>\n",
       "      <td>NaN</td>\n",
       "      <td>NaN</td>\n",
       "      <td>NaN</td>\n",
       "      <td>...</td>\n",
       "      <td>NaN</td>\n",
       "      <td>NaN</td>\n",
       "      <td>NaN</td>\n",
       "      <td>NaN</td>\n",
       "      <td>NaN</td>\n",
       "      <td>NaN</td>\n",
       "      <td>NaN</td>\n",
       "      <td>NaN</td>\n",
       "      <td>1.0</td>\n",
       "      <td>0.011236</td>\n",
       "    </tr>\n",
       "    <tr>\n",
       "      <th>4</th>\n",
       "      <td>Brady Henderson</td>\n",
       "      <td>0.0</td>\n",
       "      <td>0</td>\n",
       "      <td>0</td>\n",
       "      <td>0</td>\n",
       "      <td>1</td>\n",
       "      <td>0</td>\n",
       "      <td>0.0</td>\n",
       "      <td>0.0</td>\n",
       "      <td>0.0</td>\n",
       "      <td>...</td>\n",
       "      <td>0.0</td>\n",
       "      <td>0.0</td>\n",
       "      <td>0.0</td>\n",
       "      <td>0.0</td>\n",
       "      <td>0.0</td>\n",
       "      <td>0.0</td>\n",
       "      <td>0.0</td>\n",
       "      <td>0.0</td>\n",
       "      <td>5.0</td>\n",
       "      <td>0.056180</td>\n",
       "    </tr>\n",
       "  </tbody>\n",
       "</table>\n",
       "<p>5 rows × 89 columns</p>\n",
       "</div>"
      ],
      "text/plain": [
       "        Unnamed: 0  Hyunjin Yi Mike Zahorec Cole McGuire Marcelo Paesani  \\\n",
       "0       Hyunjin Yi         1.0            1            0               0   \n",
       "1     Mike Zahorec         1.0            1            0               0   \n",
       "2     Cole McGuire         0.0            0            1               0   \n",
       "3  Marcelo Paesani         NaN          NaN          NaN               1   \n",
       "4  Brady Henderson         0.0            0            0               0   \n",
       "\n",
       "  Brady Henderson Jacquelyn Nogueras  Caitlyn Jessee  Zhixi Lin  \\\n",
       "0               0                  0             0.0        1.0   \n",
       "1               0                  0             0.0        0.0   \n",
       "2               0                  0             0.0        0.0   \n",
       "3             NaN                NaN             NaN        NaN   \n",
       "4               1                  0             0.0        0.0   \n",
       "\n",
       "   Sabrina Callejo  ...  Anusha Dayanand  Aditya Madhusudhan  Tejas Vedagiri  \\\n",
       "0              0.0  ...              0.0                 0.0             0.0   \n",
       "1              0.0  ...              0.0                 0.0             0.0   \n",
       "2              0.0  ...              0.0                 0.0             0.0   \n",
       "3              NaN  ...              NaN                 NaN             NaN   \n",
       "4              0.0  ...              0.0                 0.0             0.0   \n",
       "\n",
       "   Nikhila Vudem  Keerthi Reddy Vudem  Austin Miller  AIdan Mahoney  \\\n",
       "0            0.0                  0.0            0.0            0.0   \n",
       "1            0.0                  0.0            0.0            0.0   \n",
       "2            0.0                  0.0            1.0            0.0   \n",
       "3            NaN                  NaN            NaN            NaN   \n",
       "4            0.0                  0.0            0.0            0.0   \n",
       "\n",
       "   Frecks Bertrand  Abhishek Pavshe  Unnamed: 88  \n",
       "0              0.0              5.0     0.056180  \n",
       "1              0.0              5.0     0.056180  \n",
       "2              0.0              6.0     0.067416  \n",
       "3              NaN              1.0     0.011236  \n",
       "4              0.0              5.0     0.056180  \n",
       "\n",
       "[5 rows x 89 columns]"
      ]
     },
     "execution_count": 2,
     "metadata": {},
     "output_type": "execute_result"
    }
   ],
   "source": [
    "df=pd.read_csv(r'C:\\Users\\CS\\Downloads\\Compressed\\Introduction to Data Science Assignment2\\Friendship - Sheet1.csv')\n",
    "df.head()"
   ]
  },
  {
   "cell_type": "code",
   "execution_count": 3,
   "metadata": {},
   "outputs": [],
   "source": [
    "df=df.dropna()"
   ]
  },
  {
   "cell_type": "code",
   "execution_count": 5,
   "metadata": {},
   "outputs": [],
   "source": [
    "def answer_one():\n",
    "        \n",
    "    # Your Code Here\n",
    "    G = nx.from_pandas_edgelist(df, source='Unnamed: 0', target='Unnamed: 88',edge_attr='Unnamed: 88')\n",
    "    degCent=nx.degree_centrality(G)\n",
    "    cloCent=nx.closeness_centrality(G)\n",
    "    btwnCent=nx.betweenness_centrality(G,endpoints=False,normalized=True)\n",
    "    \n",
    "    \n",
    "    #return degCent,cloCent,btwnCent# Your Answer Here\n",
    "    return degCent,cloCent,btwnCent\n"
   ]
  },
  {
   "cell_type": "code",
   "execution_count": 6,
   "metadata": {},
   "outputs": [],
   "source": [
    "def f(x):\n",
    "    d={}\n",
    "    for i in x.keys():\n",
    "        try:\n",
    "            q=int(i)\n",
    "        except:\n",
    "            if i!='nan':\n",
    "                d[i]=x[i]\n",
    "    return d\n",
    "\n"
   ]
  },
  {
   "cell_type": "code",
   "execution_count": 9,
   "metadata": {},
   "outputs": [],
   "source": [
    "degCent,cloCent,btwnCent=answer_one()"
   ]
  },
  {
   "cell_type": "code",
   "execution_count": 10,
   "metadata": {},
   "outputs": [],
   "source": [
    "Measure_Closeness_Centrality=(cloCent)\n",
    "Measure_Degree_Centrality=(degCent)"
   ]
  },
  {
   "cell_type": "code",
   "execution_count": null,
   "metadata": {},
   "outputs": [],
   "source": []
  },
  {
   "cell_type": "markdown",
   "metadata": {},
   "source": [
    "# i Which students have the maximum in-degree and out-degree?"
   ]
  },
  {
   "cell_type": "code",
   "execution_count": 83,
   "metadata": {},
   "outputs": [],
   "source": []
  },
  {
   "cell_type": "code",
   "execution_count": 11,
   "metadata": {},
   "outputs": [],
   "source": [
    "x=((df.loc[df['Unnamed: 0']=='Hyunjin Yi']).T.values[1:]).tolist()\n"
   ]
  },
  {
   "cell_type": "code",
   "execution_count": 12,
   "metadata": {},
   "outputs": [],
   "source": [
    "def max_main(n):\n",
    "    x=((df.loc[df['Unnamed: 0']==n]).T.values[1:]).tolist()\n",
    "    one=0\n",
    "    zero=0\n",
    "    for i in x:\n",
    "        if i[0]==0:\n",
    "            zero+=1\n",
    "        elif i[0]==1:\n",
    "            one+=1\n",
    "    return one,zero"
   ]
  },
  {
   "cell_type": "code",
   "execution_count": 13,
   "metadata": {},
   "outputs": [],
   "source": [
    "max_value=0\n",
    "min_value=0\n",
    "max_name=\"\"\n",
    "min_name=\"\"\n",
    "for i in list(df['Unnamed: 0']):\n",
    "    x1,x2=max_main(i)\n",
    "    if x1>max_value:\n",
    "        max_value=x1\n",
    "        max_name=i\n",
    "    elif x2>min_value:\n",
    "        min_value=x2\n",
    "        min_name=i"
   ]
  },
  {
   "cell_type": "code",
   "execution_count": 14,
   "metadata": {},
   "outputs": [
    {
     "name": "stdout",
     "output_type": "stream",
     "text": [
      "The Stueden whos max in degree is :  Venkata Sivasai Phani Praveen\n"
     ]
    }
   ],
   "source": [
    "print(\"The Stueden whos max in degree is : \",max_name)"
   ]
  },
  {
   "cell_type": "code",
   "execution_count": 15,
   "metadata": {},
   "outputs": [
    {
     "name": "stdout",
     "output_type": "stream",
     "text": [
      "The Stueden whos min in degree is :  Andrew Franklin\n"
     ]
    }
   ],
   "source": [
    "print(\"The Stueden whos min in degree is : \",min_name)"
   ]
  },
  {
   "cell_type": "code",
   "execution_count": null,
   "metadata": {},
   "outputs": [],
   "source": []
  },
  {
   "cell_type": "code",
   "execution_count": 20,
   "metadata": {},
   "outputs": [],
   "source": [
    "Measure_Closeness_Centrality=(cloCent)\n",
    "Measure_Degree_Centrality=(degCent)\n"
   ]
  },
  {
   "cell_type": "code",
   "execution_count": null,
   "metadata": {},
   "outputs": [],
   "source": [
    "\n",
    "    "
   ]
  },
  {
   "cell_type": "markdown",
   "metadata": {},
   "source": [
    "# ii)\tMeasure Degree Centrality"
   ]
  },
  {
   "cell_type": "code",
   "execution_count": 21,
   "metadata": {},
   "outputs": [
    {
     "name": "stdout",
     "output_type": "stream",
     "text": [
      "Measure Degree Centrality:  0.04494382\n"
     ]
    }
   ],
   "source": [
    "print(\"Measure Degree Centrality: \", list(Measure_Degree_Centrality.keys())[list(Measure_Degree_Centrality.values()).index(max(Measure_Degree_Centrality.values()))])"
   ]
  },
  {
   "cell_type": "markdown",
   "metadata": {},
   "source": [
    "# iii)\tMeasure Closeness Centrality"
   ]
  },
  {
   "cell_type": "code",
   "execution_count": 22,
   "metadata": {},
   "outputs": [
    {
     "name": "stdout",
     "output_type": "stream",
     "text": [
      "Measure Closeness Centrality:  0.04494382\n"
     ]
    }
   ],
   "source": [
    "print(\"Measure Closeness Centrality: \", list(Measure_Closeness_Centrality.keys())[list(Measure_Closeness_Centrality.values()).index(max(Measure_Closeness_Centrality.values()))])"
   ]
  },
  {
   "cell_type": "code",
   "execution_count": null,
   "metadata": {},
   "outputs": [],
   "source": []
  },
  {
   "cell_type": "code",
   "execution_count": null,
   "metadata": {},
   "outputs": [],
   "source": []
  }
 ],
 "metadata": {
  "kernelspec": {
   "display_name": "Python 3",
   "language": "python",
   "name": "python3"
  },
  "language_info": {
   "codemirror_mode": {
    "name": "ipython",
    "version": 3
   },
   "file_extension": ".py",
   "mimetype": "text/x-python",
   "name": "python",
   "nbconvert_exporter": "python",
   "pygments_lexer": "ipython3",
   "version": "3.8.5"
  }
 },
 "nbformat": 4,
 "nbformat_minor": 4
}
