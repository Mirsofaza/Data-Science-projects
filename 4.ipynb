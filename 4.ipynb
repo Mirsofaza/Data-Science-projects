{
 "cells": [
  {
   "cell_type": "markdown",
   "id": "55700d1b",
   "metadata": {},
   "source": [
    "# Q1"
   ]
  },
  {
   "cell_type": "code",
   "execution_count": 44,
   "id": "f46d0880",
   "metadata": {},
   "outputs": [
    {
     "name": "stdout",
     "output_type": "stream",
     "text": [
      "================== Training ==================\n",
      "Logistic Regression score: 1.0\n",
      "Random Forest score: 0.9761904761904762\n",
      "SVM score: 1.0\n",
      "================== Evaluation ==================\n",
      "Logistic Regression\n",
      "Accuracy: 1.0\n",
      "Precision: 1.0\n",
      "Recall: 1.0\n",
      "F1 score: 1.0\n",
      "================================================\n",
      "Random Forest score\n",
      "Accuracy: 0.9761904761904762\n",
      "Precision: 0.9880952380952381\n",
      "Recall: 0.9761904761904762\n",
      "F1 score: 0.9761904761904762\n",
      "================================================\n",
      "SVM\n",
      "Accuracy: 1.0\n",
      "Precision: 1.0\n",
      "Recall: 1.0\n",
      "F1 score: 1.0\n"
     ]
    }
   ],
   "source": [
    "import pandas as pd\n",
    "from sklearn.model_selection import train_test_split\n",
    "from sklearn.ensemble import RandomForestClassifier\n",
    "from sklearn.linear_model import LogisticRegression\n",
    "from sklearn.svm import SVC\n",
    "from sklearn.metrics import accuracy_score, precision_score, recall_score, f1_score, roc_auc_score\n",
    "\n",
    "# Instantiate the models\n",
    "lr = LogisticRegression()\n",
    "rf = RandomForestClassifier()\n",
    "svm = SVC()\n",
    "\n",
    "# Train and evaluate the models\n",
    "X_train = pd.read_csv('Training.csv').drop(['prognosis','Unnamed: 133'], axis=1)\n",
    "X_test = pd.read_csv('testing.csv').drop('prognosis', axis=1)\n",
    "y_train = pd.read_csv('Training.csv')['prognosis']\n",
    "y_test = pd.read_csv('testing.csv')['prognosis']\n",
    "\n",
    "lr.fit(X_train, y_train)\n",
    "lr_pred = lr.predict(X_test)\n",
    "lr_score = accuracy_score(y_test, lr_pred)\n",
    "\n",
    "rf.fit(X_train, y_train)\n",
    "rf_pred = rf.predict(X_test)\n",
    "rf_score = accuracy_score(y_test, rf_pred)\n",
    "\n",
    "svm.fit(X_train, y_train)\n",
    "svm_pred = svm.predict(X_test)\n",
    "svm_score = accuracy_score(y_test, svm_pred)\n",
    "print(f\"================== Training ==================\")\n",
    "print(f\"Logistic Regression score: {lr_score}\")\n",
    "print(f\"Random Forest score: {rf_score}\")\n",
    "print(f\"SVM score: {svm_score}\")\n",
    "\n",
    "\n",
    "# Compute evaluation metrics\n",
    "\n",
    "y_true = pd.DataFrame(y_test)\n",
    "accuracy = accuracy_score(y_true, lr_pred)\n",
    "precision = precision_score(y_true, lr_pred, average='weighted', zero_division=0)\n",
    "recall = recall_score(y_true, lr_pred, average='weighted', zero_division=0)\n",
    "f1 = f1_score(y_true, lr_pred, average='weighted', zero_division=0)\n",
    "print(f\"================== Evaluation ==================\")\n",
    "print(f\"Logistic Regression\")\n",
    "print(f\"Accuracy: {accuracy}\")\n",
    "print(f\"Precision: {precision}\")\n",
    "print(f\"Recall: {recall}\")\n",
    "print(f\"F1 score: {f1}\")\n",
    "\n",
    "\n",
    "y_true = pd.DataFrame(y_test)\n",
    "accuracy = accuracy_score(y_true, rf_pred)\n",
    "precision = precision_score(y_true, rf_pred, average='weighted', zero_division=0)\n",
    "recall = recall_score(y_true, rf_pred, average='weighted', zero_division=0)\n",
    "f1 = f1_score(y_true, rf_pred, average='weighted', zero_division=0)\n",
    "print(f\"================================================\")\n",
    "print(f\"Random Forest score\")\n",
    "print(f\"Accuracy: {accuracy}\")\n",
    "print(f\"Precision: {precision}\")\n",
    "print(f\"Recall: {recall}\")\n",
    "print(f\"F1 score: {f1}\")\n",
    "\n",
    "\n",
    "y_true = pd.DataFrame(y_test)\n",
    "accuracy = accuracy_score(y_true, svm_pred)\n",
    "precision = precision_score(y_true, svm_pred, average='weighted', zero_division=0)\n",
    "recall = recall_score(y_true, svm_pred, average='weighted', zero_division=0)\n",
    "f1 = f1_score(y_true, svm_pred, average='weighted', zero_division=0)\n",
    "print(f\"================================================\")\n",
    "print(f\"SVM\")\n",
    "print(f\"Accuracy: {accuracy}\")\n",
    "print(f\"Precision: {precision}\")\n",
    "print(f\"Recall: {recall}\")\n",
    "print(f\"F1 score: {f1}\")"
   ]
  },
  {
   "cell_type": "markdown",
   "id": "340b1f19",
   "metadata": {},
   "source": [
    "# Q2"
   ]
  },
  {
   "cell_type": "code",
   "execution_count": 45,
   "id": "05ebfadf",
   "metadata": {},
   "outputs": [
    {
     "name": "stdout",
     "output_type": "stream",
     "text": [
      "Best model score: 1.0\n",
      "Mean cross-validation score: 1.0\n"
     ]
    }
   ],
   "source": [
    "# Hyperparameter tuning is the process of finding the best values for the hyperparameters of a model\n",
    "from sklearn.model_selection import GridSearchCV\n",
    "\n",
    "X_train = pd.read_csv('Training.csv').drop(['prognosis','Unnamed: 133'], axis=1)\n",
    "X_test = pd.read_csv('testing.csv').drop('prognosis', axis=1)\n",
    "y_train = pd.read_csv('Training.csv')['prognosis']\n",
    "y_test = pd.read_csv('testing.csv')['prognosis']\n",
    "\n",
    "# Define the hyperparameters to search over\n",
    "param_grid = {\n",
    "\"C\": [0.1, 1, 10],\n",
    "\"penalty\": [\"l1\", \"l2\"]\n",
    "}\n",
    "\n",
    "# Instantiate the logistic regression model\n",
    "lr = LogisticRegression()\n",
    "\n",
    "# Perform grid search using cross-validation\n",
    "grid_search = GridSearchCV(lr, param_grid=param_grid, cv=5)\n",
    "grid_search.fit(X_train, y_train)\n",
    "\n",
    "# Evaluate the best model on the test set\n",
    "best_model = grid_search.best_estimator_\n",
    "best_model_score = best_model.score(X_test, y_test)\n",
    "print(f\"Best model score: {best_model_score}\")\n",
    "\n",
    "# ii) Prevent overfitting in a classification model\n",
    "\n",
    "# Overfitting is when a model fits the training data too closely and does not generalize well to new data\n",
    "from sklearn.model_selection import cross_val_score\n",
    "\n",
    "# Instantiate the logistic regression model\n",
    "lr = LogisticRegression()\n",
    "\n",
    "# Evaluate the model using cross-validation\n",
    "scores = cross_val_score(lr, X_train, y_train, cv=5)\n",
    "\n",
    "# Calculate the mean cross-validation score\n",
    "mean_score = scores.mean()\n",
    "print(f\"Mean cross-validation score: {mean_score}\")"
   ]
  },
  {
   "cell_type": "markdown",
   "id": "58c5edc3",
   "metadata": {},
   "source": [
    "# Q3"
   ]
  },
  {
   "cell_type": "code",
   "execution_count": 63,
   "id": "bdfac4ad",
   "metadata": {},
   "outputs": [
    {
     "name": "stdout",
     "output_type": "stream",
     "text": [
      "Accuracy (L1 regularization): 0.7860696517412935\n",
      "Accuracy (L2 regularization): 0.7839374555792467\n"
     ]
    }
   ],
   "source": [
    "# Import necessary libraries\n",
    "import pandas as pd\n",
    "from sklearn.model_selection import train_test_split, GridSearchCV\n",
    "from sklearn.preprocessing import StandardScaler\n",
    "from sklearn.linear_model import LogisticRegression\n",
    "from sklearn.metrics import accuracy_score\n",
    "\n",
    "# Load data into a pandas DataFrame\n",
    "df = pd.read_csv('WA_Fn-UseC_-Telco-Customer-Churn.csv')\n",
    "df = df[['gender', 'SeniorCitizen', 'Partner', 'Dependents',\n",
    "       'tenure', 'PhoneService', 'MultipleLines', 'InternetService',\n",
    "       'OnlineSecurity', 'OnlineBackup', 'DeviceProtection', 'TechSupport',\n",
    "       'StreamingTV', 'StreamingMovies', 'Contract', 'PaperlessBilling',\n",
    "       'PaymentMethod', 'MonthlyCharges', 'TotalCharges', 'Churn']]\n",
    "# dropna\n",
    "df = df.drop(df[df.TotalCharges == ' '].index)\n",
    "\n",
    "# Replace empty strings with NaN or 0\n",
    "df['TotalCharges'] = pd.to_numeric(df['TotalCharges'], errors='raise')\n",
    "df['TotalCharges'].fillna(0, inplace=True)\n",
    "\n",
    "# Perform data preprocessing\n",
    "# Convert categorical variables to numerical using one-hot encoding\n",
    "df = pd.get_dummies(df, columns=['gender', 'Partner', 'Dependents', 'PhoneService', 'MultipleLines', \n",
    "                                 'InternetService', 'OnlineSecurity', 'OnlineBackup', 'DeviceProtection',\n",
    "                                 'TechSupport', 'StreamingTV', 'StreamingMovies', 'Contract', \n",
    "                                 'PaperlessBilling', 'PaymentMethod'])\n",
    "# Scale continuous variables\n",
    "scaler = StandardScaler()\n",
    "df[['tenure', 'MonthlyCharges', 'TotalCharges']] = scaler.fit_transform(df[['tenure', 'MonthlyCharges', 'TotalCharges']])\n",
    "\n",
    "# Split data into training and testing sets\n",
    "X = df.drop('Churn', axis=1)\n",
    "y = df['Churn']\n",
    "X_train, X_test, y_train, y_test = train_test_split(X, y, test_size=0.2, random_state=42)\n",
    "\n",
    "# Fit logistic regression model with L1 regularization\n",
    "lr = LogisticRegression(penalty='l1', solver='saga', max_iter=10000)\n",
    "params = {'C': [0.001, 0.01, 0.1, 1, 10, 100]}\n",
    "grid_search = GridSearchCV(lr, params, cv=5)\n",
    "grid_search.fit(X_train, y_train)\n",
    "lr_l1 = grid_search.best_estimator_\n",
    "\n",
    "# Fit logistic regression model with L2 regularization\n",
    "lr = LogisticRegression(penalty='l2', solver='saga', max_iter=10000)\n",
    "params = {'C': [0.001, 0.01, 0.1, 1, 10, 100]}\n",
    "grid_search = GridSearchCV(lr, params, cv=5)\n",
    "grid_search.fit(X_train, y_train)\n",
    "lr_l2 = grid_search.best_estimator_\n",
    "\n",
    "# Evaluate model performance on test set\n",
    "y_pred_l1 = lr_l1.predict(X_test)\n",
    "acc_l1 = accuracy_score(y_test, y_pred_l1)\n",
    "print('Accuracy (L1 regularization):', acc_l1)\n",
    "\n",
    "y_pred_l2 = lr_l2.predict(X_test)\n",
    "acc_l2 = accuracy_score(y_test, y_pred_l2)\n",
    "print('Accuracy (L2 regularization):', acc_l2)"
   ]
  },
  {
   "cell_type": "markdown",
   "id": "bb1b332b",
   "metadata": {},
   "source": [
    "# Q5 "
   ]
  },
  {
   "cell_type": "code",
   "execution_count": 72,
   "id": "f9baa415",
   "metadata": {},
   "outputs": [],
   "source": [
    "import matplotlib.pyplot as plt\n",
    "import numpy as np\n",
    "from scipy.spatial.distance import cdist\n",
    "from sklearn.cluster import KMeans\n",
    "\n",
    "data = np.array([(2, 10), (2, 5), (8, 4), (5, 8), (7, 5), (6, 4), (1, 2), (4, 9)])\n",
    "\n",
    "distortions = []\n",
    "K = range(1,8)\n",
    "for k in K:\n",
    "    kmeanModel = KMeans(n_clusters=k)\n",
    "    kmeanModel.fit(data)\n",
    "    distortions.append(sum(np.min(cdist(data, kmeanModel.cluster_centers_, 'euclidean'), axis=1)) / data.shape[0])\n",
    "    \n",
    "plt.plot(K, distortions, 'bx-')\n",
    "plt.xlabel('Number of clusters')\n",
    "plt.ylabel('Distortion')\n",
    "plt.title('Elbow Method')\n",
    "plt.show()"
   ]
  },
  {
   "cell_type": "code",
   "execution_count": 65,
   "id": "9dfba520",
   "metadata": {},
   "outputs": [
    {
     "data": {
      "image/png": "[encoded data removed]",
      "text/plain": [
       "<Figure size 432x288 with 1 Axes>"
      ]
     },
     "metadata": {
      "needs_background": "light"
     },
     "output_type": "display_data"
    }
   ],
   "source": [
    "import matplotlib.pyplot as plt\n",
    "import numpy as np\n",
    "from sklearn.cluster import DBSCAN\n",
    "\n",
    "data = np.array([(2, 10), (2, 5), (8, 4), (5, 8), (7, 5), (6, 4), (1, 2), (4, 9)])\n",
    "\n",
    "dbscan = DBSCAN(eps=2, min_samples=3)\n",
    "dbscan.fit(data)\n",
    "\n",
    "labels = dbscan.labels_\n",
    "clusters = []\n",
    "for i in range(len(set(labels))):\n",
    "    clusters.append(data[labels == i])\n",
    "\n",
    "colors = ['red', 'blue', 'green', 'cyan', 'magenta', 'yellow', 'black']\n",
    "for i in range(len(clusters)):\n",
    "    plt.scatter(clusters[i][:, 0], clusters[i][:, 1], color=colors[i])\n",
    "plt.title('Density-Based Clustering')\n",
    "plt.xlabel('x')\n",
    "plt.ylabel('y')\n",
    "plt.show()"
   ]
  },
  {
   "cell_type": "code",
   "execution_count": null,
   "id": "9c0f6a97",
   "metadata": {},
   "outputs": [],
   "source": []
  }
 ],
 "metadata": {
  "kernelspec": {
   "display_name": "Python 3",
   "language": "python",
   "name": "python3"
  },
  "language_info": {
   "codemirror_mode": {
    "name": "ipython",
    "version": 3
   },
   "file_extension": ".py",
   "mimetype": "text/x-python",
   "name": "python",
   "nbconvert_exporter": "python",
   "pygments_lexer": "ipython3",
   "version": "3.8.8"
  }
 },
 "nbformat": 4,
 "nbformat_minor": 5
}
