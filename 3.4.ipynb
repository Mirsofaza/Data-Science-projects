{
 "cells": [
  {
   "cell_type": "code",
   "execution_count": 1,
   "id": "181081d7",
   "metadata": {},
   "outputs": [],
   "source": [
    "import pandas as pd\n",
    "from sklearn.preprocessing import LabelEncoder\n",
    "from sklearn.model_selection import train_test_split"
   ]
  },
  {
   "cell_type": "markdown",
   "id": "1556c3f6",
   "metadata": {},
   "source": [
    "### Data Preprocessing:"
   ]
  },
  {
   "cell_type": "code",
   "execution_count": 71,
   "id": "203cc65a",
   "metadata": {
    "scrolled": true
   },
   "outputs": [
    {
     "data": {
      "text/html": [
       "<div>\n",
       "<style scoped>\n",
       "    .dataframe tbody tr th:only-of-type {\n",
       "        vertical-align: middle;\n",
       "    }\n",
       "\n",
       "    .dataframe tbody tr th {\n",
       "        vertical-align: top;\n",
       "    }\n",
       "\n",
       "    .dataframe thead th {\n",
       "        text-align: right;\n",
       "    }\n",
       "</style>\n",
       "<table border=\"1\" class=\"dataframe\">\n",
       "  <thead>\n",
       "    <tr style=\"text-align: right;\">\n",
       "      <th></th>\n",
       "      <th>Customer ID</th>\n",
       "      <th>First Name</th>\n",
       "      <th>Last Name</th>\n",
       "      <th>Age</th>\n",
       "      <th>Gender</th>\n",
       "      <th>Location</th>\n",
       "      <th>Product Category</th>\n",
       "      <th>Product</th>\n",
       "      <th>Price</th>\n",
       "      <th>Quantity</th>\n",
       "      <th>Purchase Date</th>\n",
       "      <th>Payment method</th>\n",
       "      <th>Order Status</th>\n",
       "    </tr>\n",
       "  </thead>\n",
       "  <tbody>\n",
       "    <tr>\n",
       "      <th>0</th>\n",
       "      <td>1</td>\n",
       "      <td>Parker</td>\n",
       "      <td>Villarreal</td>\n",
       "      <td>56</td>\n",
       "      <td>Male</td>\n",
       "      <td>New Nancychester</td>\n",
       "      <td>Home Appliances</td>\n",
       "      <td>Microwave</td>\n",
       "      <td>759.96</td>\n",
       "      <td>9</td>\n",
       "      <td>12-05-22</td>\n",
       "      <td>PayPal</td>\n",
       "      <td>Delivered</td>\n",
       "    </tr>\n",
       "    <tr>\n",
       "      <th>1</th>\n",
       "      <td>2</td>\n",
       "      <td>Nancy</td>\n",
       "      <td>Randall</td>\n",
       "      <td>32</td>\n",
       "      <td>Male</td>\n",
       "      <td>Andreaside</td>\n",
       "      <td>Beauty</td>\n",
       "      <td>Face Cream</td>\n",
       "      <td>310.16</td>\n",
       "      <td>3</td>\n",
       "      <td>19-06-22</td>\n",
       "      <td>Google Pay</td>\n",
       "      <td>Shipped</td>\n",
       "    </tr>\n",
       "    <tr>\n",
       "      <th>2</th>\n",
       "      <td>3</td>\n",
       "      <td>Dennis</td>\n",
       "      <td>Patterson</td>\n",
       "      <td>61</td>\n",
       "      <td>Female</td>\n",
       "      <td>Stacybury</td>\n",
       "      <td>Books</td>\n",
       "      <td>Fiction</td>\n",
       "      <td>190.64</td>\n",
       "      <td>4</td>\n",
       "      <td>24-10-22</td>\n",
       "      <td>Debit Card</td>\n",
       "      <td>Delivered</td>\n",
       "    </tr>\n",
       "    <tr>\n",
       "      <th>3</th>\n",
       "      <td>4</td>\n",
       "      <td>Christopher</td>\n",
       "      <td>Peterson</td>\n",
       "      <td>19</td>\n",
       "      <td>Other</td>\n",
       "      <td>Port Tammystad</td>\n",
       "      <td>Home Appliances</td>\n",
       "      <td>Refrigerator</td>\n",
       "      <td>145.75</td>\n",
       "      <td>6</td>\n",
       "      <td>14-03-23</td>\n",
       "      <td>Credit Card</td>\n",
       "      <td>Delivered</td>\n",
       "    </tr>\n",
       "    <tr>\n",
       "      <th>4</th>\n",
       "      <td>5</td>\n",
       "      <td>Jessica</td>\n",
       "      <td>Hogan</td>\n",
       "      <td>63</td>\n",
       "      <td>Female</td>\n",
       "      <td>New Michael</td>\n",
       "      <td>Clothing</td>\n",
       "      <td>Shirt</td>\n",
       "      <td>998.50</td>\n",
       "      <td>7</td>\n",
       "      <td>04-08-22</td>\n",
       "      <td>Debit Card</td>\n",
       "      <td>Shipped</td>\n",
       "    </tr>\n",
       "  </tbody>\n",
       "</table>\n",
       "</div>"
      ],
      "text/plain": [
       "   Customer ID   First Name   Last Name  Age  Gender          Location  \\\n",
       "0            1       Parker  Villarreal   56    Male  New Nancychester   \n",
       "1            2        Nancy     Randall   32    Male        Andreaside   \n",
       "2            3       Dennis   Patterson   61  Female         Stacybury   \n",
       "3            4  Christopher    Peterson   19   Other    Port Tammystad   \n",
       "4            5      Jessica       Hogan   63  Female       New Michael   \n",
       "\n",
       "  Product Category       Product   Price  Quantity Purchase Date  \\\n",
       "0  Home Appliances     Microwave  759.96         9      12-05-22   \n",
       "1           Beauty    Face Cream  310.16         3      19-06-22   \n",
       "2            Books       Fiction  190.64         4      24-10-22   \n",
       "3  Home Appliances  Refrigerator  145.75         6      14-03-23   \n",
       "4         Clothing         Shirt  998.50         7      04-08-22   \n",
       "\n",
       "  Payment method Order Status  \n",
       "0         PayPal    Delivered  \n",
       "1     Google Pay      Shipped  \n",
       "2     Debit Card    Delivered  \n",
       "3    Credit Card    Delivered  \n",
       "4     Debit Card      Shipped  "
      ]
     },
     "execution_count": 71,
     "metadata": {},
     "output_type": "execute_result"
    }
   ],
   "source": [
    "# Load the data\n",
    "data = pd.read_csv(\"customer_retail_data.csv\")\n",
    "data.head()"
   ]
  },
  {
   "cell_type": "code",
   "execution_count": 72,
   "id": "b4c06893",
   "metadata": {},
   "outputs": [
    {
     "data": {
      "text/plain": [
       "Customer ID         0\n",
       "First Name          0\n",
       "Last Name           0\n",
       "Age                 0\n",
       "Gender              0\n",
       "Location            0\n",
       "Product Category    0\n",
       "Product             0\n",
       "Price               0\n",
       "Quantity            0\n",
       "Purchase Date       0\n",
       "Payment method      0\n",
       "Order Status        0\n",
       "dtype: int64"
      ]
     },
     "execution_count": 72,
     "metadata": {},
     "output_type": "execute_result"
    }
   ],
   "source": [
    "data.isnull().sum()"
   ]
  },
  {
   "cell_type": "code",
   "execution_count": 73,
   "id": "781eaa3b",
   "metadata": {},
   "outputs": [],
   "source": [
    "# Remove unnecessary columns\n",
    "data.drop([ \"Customer ID\",\"First Name\", \"Last Name\", \"Location\", \"Purchase Date\"], axis=1, inplace=True)"
   ]
  },
  {
   "cell_type": "code",
   "execution_count": 74,
   "id": "fad21ce0",
   "metadata": {},
   "outputs": [],
   "source": [
    "# Encode categorical variables\n",
    "labelencoder = LabelEncoder()\n",
    "data['Gender'] = labelencoder.fit_transform(data['Gender'])\n",
    "data['Product Category'] = labelencoder.fit_transform(data['Product Category'])\n",
    "data['Product'] = labelencoder.fit_transform(data['Product'])\n",
    "data['Payment method'] = labelencoder.fit_transform(data['Payment method'])"
   ]
  },
  {
   "cell_type": "code",
   "execution_count": 75,
   "id": "8662976f",
   "metadata": {},
   "outputs": [
    {
     "data": {
      "text/html": [
       "<div>\n",
       "<style scoped>\n",
       "    .dataframe tbody tr th:only-of-type {\n",
       "        vertical-align: middle;\n",
       "    }\n",
       "\n",
       "    .dataframe tbody tr th {\n",
       "        vertical-align: top;\n",
       "    }\n",
       "\n",
       "    .dataframe thead th {\n",
       "        text-align: right;\n",
       "    }\n",
       "</style>\n",
       "<table border=\"1\" class=\"dataframe\">\n",
       "  <thead>\n",
       "    <tr style=\"text-align: right;\">\n",
       "      <th></th>\n",
       "      <th>Age</th>\n",
       "      <th>Gender</th>\n",
       "      <th>Product Category</th>\n",
       "      <th>Product</th>\n",
       "      <th>Price</th>\n",
       "      <th>Quantity</th>\n",
       "      <th>Payment method</th>\n",
       "      <th>Order Status</th>\n",
       "    </tr>\n",
       "  </thead>\n",
       "  <tbody>\n",
       "    <tr>\n",
       "      <th>0</th>\n",
       "      <td>56</td>\n",
       "      <td>1</td>\n",
       "      <td>4</td>\n",
       "      <td>14</td>\n",
       "      <td>759.96</td>\n",
       "      <td>9</td>\n",
       "      <td>4</td>\n",
       "      <td>Delivered</td>\n",
       "    </tr>\n",
       "    <tr>\n",
       "      <th>1</th>\n",
       "      <td>32</td>\n",
       "      <td>1</td>\n",
       "      <td>0</td>\n",
       "      <td>5</td>\n",
       "      <td>310.16</td>\n",
       "      <td>3</td>\n",
       "      <td>3</td>\n",
       "      <td>Shipped</td>\n",
       "    </tr>\n",
       "    <tr>\n",
       "      <th>2</th>\n",
       "      <td>61</td>\n",
       "      <td>0</td>\n",
       "      <td>1</td>\n",
       "      <td>6</td>\n",
       "      <td>190.64</td>\n",
       "      <td>4</td>\n",
       "      <td>2</td>\n",
       "      <td>Delivered</td>\n",
       "    </tr>\n",
       "    <tr>\n",
       "      <th>3</th>\n",
       "      <td>19</td>\n",
       "      <td>2</td>\n",
       "      <td>4</td>\n",
       "      <td>19</td>\n",
       "      <td>145.75</td>\n",
       "      <td>6</td>\n",
       "      <td>1</td>\n",
       "      <td>Delivered</td>\n",
       "    </tr>\n",
       "    <tr>\n",
       "      <th>4</th>\n",
       "      <td>63</td>\n",
       "      <td>0</td>\n",
       "      <td>2</td>\n",
       "      <td>21</td>\n",
       "      <td>998.50</td>\n",
       "      <td>7</td>\n",
       "      <td>2</td>\n",
       "      <td>Shipped</td>\n",
       "    </tr>\n",
       "  </tbody>\n",
       "</table>\n",
       "</div>"
      ],
      "text/plain": [
       "   Age  Gender  Product Category  Product   Price  Quantity  Payment method  \\\n",
       "0   56       1                 4       14  759.96         9               4   \n",
       "1   32       1                 0        5  310.16         3               3   \n",
       "2   61       0                 1        6  190.64         4               2   \n",
       "3   19       2                 4       19  145.75         6               1   \n",
       "4   63       0                 2       21  998.50         7               2   \n",
       "\n",
       "  Order Status  \n",
       "0    Delivered  \n",
       "1      Shipped  \n",
       "2    Delivered  \n",
       "3    Delivered  \n",
       "4      Shipped  "
      ]
     },
     "execution_count": 75,
     "metadata": {},
     "output_type": "execute_result"
    }
   ],
   "source": [
    "data.head()"
   ]
  },
  {
   "cell_type": "code",
   "execution_count": 76,
   "id": "d4f82000",
   "metadata": {},
   "outputs": [],
   "source": [
    "# Split the data into training and testing sets\n",
    "X = data.drop('Order Status',axis=1)\n",
    "y = data['Order Status']\n",
    "X_train, X_test, y_train, y_test = train_test_split(X, y, test_size=0.3, random_state=42)"
   ]
  },
  {
   "cell_type": "markdown",
   "id": "e1eabd09",
   "metadata": {},
   "source": [
    "### Building the Decision Tree Model:"
   ]
  },
  {
   "cell_type": "code",
   "execution_count": 77,
   "id": "5f8bb6ff",
   "metadata": {},
   "outputs": [
    {
     "name": "stdout",
     "output_type": "stream",
     "text": [
      "Accuracy: 0.25004444444444446\n"
     ]
    }
   ],
   "source": [
    "from sklearn.tree import DecisionTreeClassifier\n",
    "from sklearn.metrics import accuracy_score\n",
    "\n",
    "# Initialize the model\n",
    "clf = DecisionTreeClassifier(criterion=\"gini\")\n",
    "\n",
    "# Train the model\n",
    "clf.fit(X_train, y_train)\n",
    "\n",
    "# Make predictions on the test set\n",
    "y_pred = clf.predict(X_test)\n",
    "\n",
    "# Evaluate the model's performance\n",
    "accuracy = accuracy_score(y_test, y_pred)\n",
    "print(\"Accuracy:\", accuracy)"
   ]
  },
  {
   "cell_type": "markdown",
   "id": "e13099cd",
   "metadata": {},
   "source": [
    "### Interpretation of the Decision Tree:"
   ]
  },
  {
   "cell_type": "code",
   "execution_count": 78,
   "id": "02d671c7",
   "metadata": {},
   "outputs": [],
   "source": [
    "# from sklearn.tree import plot_tree\n",
    "# import matplotlib.pyplot as plt\n",
    "\n",
    "# # Visualize the decision tree\n",
    "# plt.figure(figsize=(15,10))\n",
    "# plot_tree(clf, filled=True, feature_names=X.columns)\n",
    "# plt.show()"
   ]
  },
  {
   "cell_type": "markdown",
   "id": "6a1264bc",
   "metadata": {},
   "source": [
    "### Evaluating the Performance of the Decision Tree Model:"
   ]
  },
  {
   "cell_type": "code",
   "execution_count": 79,
   "id": "8d83d8f7",
   "metadata": {},
   "outputs": [
    {
     "name": "stdout",
     "output_type": "stream",
     "text": [
      "              precision    recall  f1-score   support\n",
      "\n",
      "   Cancelled       0.25      0.25      0.25     22539\n",
      "   Delivered       0.25      0.25      0.25     22637\n",
      "    Returned       0.25      0.25      0.25     22429\n",
      "     Shipped       0.25      0.25      0.25     22395\n",
      "\n",
      "    accuracy                           0.25     90000\n",
      "   macro avg       0.25      0.25      0.25     90000\n",
      "weighted avg       0.25      0.25      0.25     90000\n",
      "\n",
      "[[5671 5654 5646 5568]\n",
      " [5604 5649 5729 5655]\n",
      " [5555 5565 5645 5664]\n",
      " [5671 5650 5535 5539]]\n"
     ]
    }
   ],
   "source": [
    "from sklearn.metrics import classification_report, confusion_matrix\n",
    "\n",
    "# Print classification report and confusion matrix\n",
    "print(classification_report(y_test, y_pred))\n",
    "print(confusion_matrix(y_test, y_pred))"
   ]
  }
 ],
 "metadata": {
  "kernelspec": {
   "display_name": "Python 3 (ipykernel)",
   "language": "python",
   "name": "python3"
  },
  "language_info": {
   "codemirror_mode": {
    "name": "ipython",
    "version": 3
   },
   "file_extension": ".py",
   "mimetype": "text/x-python",
   "name": "python",
   "nbconvert_exporter": "python",
   "pygments_lexer": "ipython3",
   "version": "3.9.13"
  }
 },
 "nbformat": 4,
 "nbformat_minor": 5
}
