{
 "cells": [
  {
   "cell_type": "code",
   "execution_count": 1,
   "metadata": {},
   "outputs": [],
   "source": [
    "import pandas as pd"
   ]
  },
  {
   "cell_type": "code",
   "execution_count": 15,
   "metadata": {},
   "outputs": [],
   "source": [
    "l1=['D1',19,12,4,6,0]\n",
    "l2=['D2',0,2,0,0,14]\n",
    "l3=['D3',8,0,3,12,0]\n",
    "l4=['D4',0,5,10,0,1]\n",
    "l5=['D5',0,0,0,0,4]\n",
    "l6=['D6',4,19,2,6,0]"
   ]
  },
  {
   "cell_type": "code",
   "execution_count": 16,
   "metadata": {},
   "outputs": [],
   "source": [
    "\n",
    "data=[l1,l2,l3,l4,l5,l6]"
   ]
  },
  {
   "cell_type": "code",
   "execution_count": 17,
   "metadata": {},
   "outputs": [
    {
     "data": {
      "text/html": [
       "<div>\n",
       "<style scoped>\n",
       "    .dataframe tbody tr th:only-of-type {\n",
       "        vertical-align: middle;\n",
       "    }\n",
       "\n",
       "    .dataframe tbody tr th {\n",
       "        vertical-align: top;\n",
       "    }\n",
       "\n",
       "    .dataframe thead th {\n",
       "        text-align: right;\n",
       "    }\n",
       "</style>\n",
       "<table border=\"1\" class=\"dataframe\">\n",
       "  <thead>\n",
       "    <tr style=\"text-align: right;\">\n",
       "      <th></th>\n",
       "      <th>Documents</th>\n",
       "      <th>Corona</th>\n",
       "      <th>Inflation</th>\n",
       "      <th>Trump</th>\n",
       "      <th>Lay off</th>\n",
       "      <th>Soccer</th>\n",
       "    </tr>\n",
       "  </thead>\n",
       "  <tbody>\n",
       "    <tr>\n",
       "      <th>0</th>\n",
       "      <td>D1</td>\n",
       "      <td>19</td>\n",
       "      <td>12</td>\n",
       "      <td>4</td>\n",
       "      <td>6</td>\n",
       "      <td>0</td>\n",
       "    </tr>\n",
       "    <tr>\n",
       "      <th>1</th>\n",
       "      <td>D2</td>\n",
       "      <td>0</td>\n",
       "      <td>2</td>\n",
       "      <td>0</td>\n",
       "      <td>0</td>\n",
       "      <td>14</td>\n",
       "    </tr>\n",
       "    <tr>\n",
       "      <th>2</th>\n",
       "      <td>D3</td>\n",
       "      <td>8</td>\n",
       "      <td>0</td>\n",
       "      <td>3</td>\n",
       "      <td>12</td>\n",
       "      <td>0</td>\n",
       "    </tr>\n",
       "    <tr>\n",
       "      <th>3</th>\n",
       "      <td>D4</td>\n",
       "      <td>0</td>\n",
       "      <td>5</td>\n",
       "      <td>10</td>\n",
       "      <td>0</td>\n",
       "      <td>1</td>\n",
       "    </tr>\n",
       "    <tr>\n",
       "      <th>4</th>\n",
       "      <td>D5</td>\n",
       "      <td>0</td>\n",
       "      <td>0</td>\n",
       "      <td>0</td>\n",
       "      <td>0</td>\n",
       "      <td>4</td>\n",
       "    </tr>\n",
       "    <tr>\n",
       "      <th>5</th>\n",
       "      <td>D6</td>\n",
       "      <td>4</td>\n",
       "      <td>19</td>\n",
       "      <td>2</td>\n",
       "      <td>6</td>\n",
       "      <td>0</td>\n",
       "    </tr>\n",
       "  </tbody>\n",
       "</table>\n",
       "</div>"
      ],
      "text/plain": [
       "  Documents  Corona  Inflation  Trump  Lay off  Soccer\n",
       "0        D1      19         12      4        6       0\n",
       "1        D2       0          2      0        0      14\n",
       "2        D3       8          0      3       12       0\n",
       "3        D4       0          5     10        0       1\n",
       "4        D5       0          0      0        0       4\n",
       "5        D6       4         19      2        6       0"
      ]
     },
     "execution_count": 17,
     "metadata": {},
     "output_type": "execute_result"
    }
   ],
   "source": [
    "df = pd.DataFrame(data, columns=['Documents','Corona','Inflation','Trump','Lay off','Soccer'])\n",
    "df"
   ]
  },
  {
   "cell_type": "markdown",
   "metadata": {},
   "source": [
    "### ii) Find the cosine similarity between documents? Identify the two documents that are most similar"
   ]
  },
  {
   "cell_type": "code",
   "execution_count": 18,
   "metadata": {},
   "outputs": [],
   "source": [
    "d1=[19,12,4,6,0]\n",
    "d2=[0,2,0,0,14]\n",
    "d3=[8,0,3,12,0]\n",
    "d4=[0,5,10,0,1]\n",
    "d5=[0,0,0,0,4]\n",
    "d6=[4,19,2,6,0]"
   ]
  },
  {
   "cell_type": "code",
   "execution_count": 21,
   "metadata": {},
   "outputs": [
    {
     "name": "stdout",
     "output_type": "stream",
     "text": [
      "0.07190658212543756\n",
      "0.6788198578471486\n",
      "0.3774740752629962\n",
      "0.0\n",
      "0.7220771779832013\n"
     ]
    }
   ],
   "source": [
    "from numpy import dot\n",
    "from numpy.linalg import norm\n",
    "\n",
    "cos_sim = dot(d1, d2)/(norm(d1)*norm(d2))\n",
    "print(cos_sim)\n",
    "cos_sim = dot(d1, d3)/(norm(d1)*norm(d3))\n",
    "print(cos_sim)\n",
    "cos_sim = dot(d1, d4)/(norm(d1)*norm(d4))\n",
    "print(cos_sim)\n",
    "cos_sim = dot(d1, d5)/(norm(d1)*norm(d5))\n",
    "print(cos_sim)\n",
    "cos_sim = dot(d1, d6)/(norm(d1)*norm(d6))\n",
    "print(cos_sim)"
   ]
  },
  {
   "cell_type": "code",
   "execution_count": 24,
   "metadata": {},
   "outputs": [
    {
     "name": "stdout",
     "output_type": "stream",
     "text": [
      "0.0\n",
      "0.15118578920369088\n",
      "0.9899494936611665\n",
      "0.1315832386022443\n"
     ]
    }
   ],
   "source": [
    "from numpy import dot\n",
    "from numpy.linalg import norm\n",
    "\n",
    "\n",
    "cos_sim = dot(d2, d3)/(norm(d2)*norm(d3))\n",
    "print(cos_sim)\n",
    "cos_sim = dot(d2, d4)/(norm(d2)*norm(d4))\n",
    "print(cos_sim)\n",
    "cos_sim = dot(d2, d5)/(norm(d2)*norm(d5))\n",
    "print(cos_sim)\n",
    "cos_sim = dot(d2, d6)/(norm(d2)*norm(d6))\n",
    "print(cos_sim)"
   ]
  },
  {
   "cell_type": "code",
   "execution_count": 25,
   "metadata": {},
   "outputs": [
    {
     "name": "stdout",
     "output_type": "stream",
     "text": [
      "0.181428752857415\n",
      "0.0\n",
      "0.36567459641634303\n"
     ]
    }
   ],
   "source": [
    "from numpy import dot\n",
    "from numpy.linalg import norm\n",
    "\n",
    "\n",
    "\n",
    "cos_sim = dot(d3, d4)/(norm(d3)*norm(d4))\n",
    "print(cos_sim)\n",
    "cos_sim = dot(d3, d5)/(norm(d3)*norm(d5))\n",
    "print(cos_sim)\n",
    "cos_sim = dot(d3, d6)/(norm(d3)*norm(d6))\n",
    "print(cos_sim)"
   ]
  },
  {
   "cell_type": "code",
   "execution_count": 26,
   "metadata": {},
   "outputs": [
    {
     "name": "stdout",
     "output_type": "stream",
     "text": [
      "0.0890870806374748\n",
      "0.5017005074597927\n"
     ]
    }
   ],
   "source": [
    "\n",
    "cos_sim = dot(d4, d5)/(norm(d4)*norm(d5))\n",
    "print(cos_sim)\n",
    "cos_sim = dot(d4, d6)/(norm(d4)*norm(d6))\n",
    "print(cos_sim)"
   ]
  },
  {
   "cell_type": "code",
   "execution_count": 27,
   "metadata": {},
   "outputs": [
    {
     "name": "stdout",
     "output_type": "stream",
     "text": [
      "0.0\n"
     ]
    }
   ],
   "source": [
    "cos_sim = dot(d5, d6)/(norm(d5)*norm(d6))\n",
    "print(cos_sim)"
   ]
  },
  {
   "cell_type": "code",
   "execution_count": null,
   "metadata": {},
   "outputs": [],
   "source": []
  }
 ],
 "metadata": {
  "kernelspec": {
   "display_name": "Python 3",
   "language": "python",
   "name": "python3"
  },
  "language_info": {
   "codemirror_mode": {
    "name": "ipython",
    "version": 3
   },
   "file_extension": ".py",
   "mimetype": "text/x-python",
   "name": "python",
   "nbconvert_exporter": "python",
   "pygments_lexer": "ipython3",
   "version": "3.8.5"
  }
 },
 "nbformat": 4,
 "nbformat_minor": 4
}
